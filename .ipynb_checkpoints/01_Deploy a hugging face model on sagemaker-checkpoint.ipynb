{
 "cells": [
  {
   "cell_type": "code",
   "execution_count": null,
   "id": "3ebcaddd",
   "metadata": {},
   "outputs": [],
   "source": [
    "pip install sagemaker -U"
   ]
  },
  {
   "cell_type": "code",
   "execution_count": null,
   "id": "dd42894b",
   "metadata": {},
   "outputs": [],
   "source": [
    "import sagemaker\n",
    "import boto3\n",
    "try:\n",
    "    role=sagemaker.get_execution_role()\n",
    "except ValueError:\n",
    "    iam=boto3.client('iam')\n",
    "    role = iam.get_role(RoleName='sagemaker_execution_role')['Role']['Arn']\n",
    "    "
   ]
  },
  {
   "cell_type": "code",
   "execution_count": null,
   "id": "52897129",
   "metadata": {},
   "outputs": [],
   "source": [
    "#create hugging face model class\n",
    "from sagemaker.huggingface.model import HuggingFaceModel\n",
    "hub = {\n",
    " 'HF_MODEL_ID':'cardiffnlp/twitter-roberta-base-sentiment',\n",
    " 'HF_TASK':'text-classification'\n",
    "}\n",
    "hugging_face_model= HuggingFaceModel(\n",
    " transformers_version='4.37.0',\n",
    " pytorch_version='2.1.0',\n",
    " py_version='py310',\n",
    " env=hub,\n",
    " role=role,\n",
    ")"
   ]
  },
  {
   "cell_type": "code",
   "execution_count": null,
   "id": "b29151bf",
   "metadata": {},
   "outputs": [],
   "source": [
    "#deploy model to sagemaker inference\n",
    "predictor=hugging_face_model.deploy(\n",
    "        initial_instance_count=1,\n",
    "        instance_type='ml.m5.xlarge'\n",
    ")"
   ]
  },
  {
   "cell_type": "code",
   "execution_count": null,
   "id": "73d77a91",
   "metadata": {},
   "outputs": [],
   "source": [
    "predictor.predict({\n",
    "    \"inputs\": \"I absolutely loved the new design!\"\n",
    "})"
   ]
  }
 ],
 "metadata": {
  "kernelspec": {
   "display_name": "Python 3 (ipykernel)",
   "language": "python",
   "name": "python3"
  },
  "language_info": {
   "codemirror_mode": {
    "name": "ipython",
    "version": 3
   },
   "file_extension": ".py",
   "mimetype": "text/x-python",
   "name": "python",
   "nbconvert_exporter": "python",
   "pygments_lexer": "ipython3",
   "version": "3.9.12"
  }
 },
 "nbformat": 4,
 "nbformat_minor": 5
}
