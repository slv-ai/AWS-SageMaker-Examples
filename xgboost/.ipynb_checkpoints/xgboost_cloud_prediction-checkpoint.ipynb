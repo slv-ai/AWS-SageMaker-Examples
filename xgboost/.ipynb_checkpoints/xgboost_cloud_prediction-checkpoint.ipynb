{
 "cells": [
  {
   "cell_type": "code",
   "execution_count": null,
   "id": "08f51a9b-7870-4ee1-9e62-ce5618ae82ef",
   "metadata": {},
   "outputs": [],
   "source": [
    "import os\n",
    "import math\n",
    "import sys\n",
    "import pandas as pd\n",
    "import numpy  as np\n",
    "\n",
    "import boto3\n",
    "import sagemaker\n",
    "from sagemaker import get_execution_role\n",
    "import re\n",
    "from sagemaker.serializers import CSVSerializer\n",
    "from sagemaker.deserializers import JSONDeserializer"
   ]
  },
  {
   "cell_type": "code",
   "execution_count": null,
   "id": "6d8c574d-f7f6-4b3d-b65a-fb0af816b326",
   "metadata": {},
   "outputs": [],
   "source": [
    "endpoint_name='xgboost_bikerental'\n",
    "predictor=sagemaker.predictor.Predictor(endpoint_name=endpoint_name)"
   ]
  },
  {
   "cell_type": "code",
   "execution_count": null,
   "id": "221b9595-464e-43ad-86e5-f7e7e30eff07",
   "metadata": {},
   "outputs": [],
   "source": [
    "predictor.serializer=CSVSerializer()"
   ]
  },
  {
   "cell_type": "code",
   "execution_count": null,
   "id": "a4c98157-1e48-4ef0-ac2d-a19d8021081c",
   "metadata": {},
   "outputs": [],
   "source": [
    "df=pd.read_csv('bike_test.csv')"
   ]
  },
  {
   "cell_type": "code",
   "execution_count": null,
   "id": "71959236-913c-4c4f-a82b-c29ee19c68ac",
   "metadata": {},
   "outputs": [],
   "source": [
    "df.head()"
   ]
  },
  {
   "cell_type": "code",
   "execution_count": null,
   "id": "b341a1a5-02c0-4c0f-a247-f2d609dadd9b",
   "metadata": {},
   "outputs": [],
   "source": [
    "df.columns[1:]"
   ]
  },
  {
   "cell_type": "code",
   "execution_count": null,
   "id": "d587794f-e497-40b6-ac87-aed8ce0d8eb4",
   "metadata": {},
   "outputs": [],
   "source": [
    "arr_test=df[df.columns[1:]].values"
   ]
  },
  {
   "cell_type": "code",
   "execution_count": null,
   "id": "cf62fcaa-e027-4d37-9374-10c5732a6432",
   "metadata": {},
   "outputs": [],
   "source": [
    "type(arr_test)"
   ]
  },
  {
   "cell_type": "code",
   "execution_count": null,
   "id": "9ad57eb3-3d6f-448b-8139-93f307f058a3",
   "metadata": {},
   "outputs": [],
   "source": [
    "arr_test.shape"
   ]
  },
  {
   "cell_type": "code",
   "execution_count": null,
   "id": "6a0c2f54-756d-4efd-aa70-8279abc71f91",
   "metadata": {},
   "outputs": [],
   "source": [
    "arr_test[:5]"
   ]
  },
  {
   "cell_type": "raw",
   "id": "d0fd0f3e-1526-4501-bd21-c47d99c0fd5d",
   "metadata": {},
   "source": [
    "result=predictor.predict(arr_test[:2])"
   ]
  },
  {
   "cell_type": "code",
   "execution_count": null,
   "id": "b261e34b-674f-4ab0-ac1e-c74bfcbcd7a9",
   "metadata": {},
   "outputs": [],
   "source": [
    "result"
   ]
  },
  {
   "cell_type": "code",
   "execution_count": 1,
   "id": "489501fc-6b29-4854-bb2d-b7c6757464ac",
   "metadata": {},
   "outputs": [],
   "source": [
    "#split the input data into chunks to prevent payload and timeout error\n",
    "pattern=r'[^0-9.]+'\n",
    "predictions=[]\n",
    "for arr in np.array_split(arr_test,10):\n",
    "    result=predictor.predict(arr)\n",
    "    result=re.split(pattern,result.decode(\"utf-8\"))\n",
    "    print(arr.shape)\n",
    "    predictions += [float(r) for r in result if r !=\"\"]   \n"
   ]
  },
  {
   "cell_type": "code",
   "execution_count": null,
   "id": "98144754-cb93-496d-9729-7b469d7155f7",
   "metadata": {},
   "outputs": [],
   "source": [
    "len(predictions)"
   ]
  },
  {
   "cell_type": "code",
   "execution_count": null,
   "id": "3914fe39-9d48-4c75-a5b6-8565e321f4d5",
   "metadata": {},
   "outputs": [],
   "source": [
    "predictor.delete_endpoint()"
   ]
  }
 ],
 "metadata": {
  "kernelspec": {
   "display_name": "Python 3 (ipykernel)",
   "language": "python",
   "name": "python3"
  },
  "language_info": {
   "codemirror_mode": {
    "name": "ipython",
    "version": 3
   },
   "file_extension": ".py",
   "mimetype": "text/x-python",
   "name": "python",
   "nbconvert_exporter": "python",
   "pygments_lexer": "ipython3",
   "version": "3.11.7"
  }
 },
 "nbformat": 4,
 "nbformat_minor": 5
}
